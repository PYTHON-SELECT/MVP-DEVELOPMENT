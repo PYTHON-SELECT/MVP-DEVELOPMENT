{
 "cells": [
  {
   "cell_type": "code",
   "execution_count": 1,
   "metadata": {},
   "outputs": [
    {
     "data": {
      "text/html": [
       "<iframe src=\"https://pandas.pydata.org/pandas-docs/stable/getting_started/10min.html\" width=\"800\" height=\"600\"></iframe>\n"
      ],
      "text/plain": [
       "<IPython.core.display.HTML object>"
      ]
     },
     "metadata": {},
     "output_type": "display_data"
    }
   ],
   "source": [
    "%%html\n",
    "<iframe src=\"https://pandas.pydata.org/pandas-docs/stable/getting_started/10min.html\" width=\"800\" height=\"600\"></iframe>"
   ]
  },
  {
   "cell_type": "code",
   "execution_count": 4,
   "metadata": {},
   "outputs": [],
   "source": [
    "dados = {'Nomes' : ['Rodrigo','Augusto','Fábio','Jeferson','Marcos','Matheus']}"
   ]
  },
  {
   "cell_type": "markdown",
   "metadata": {},
   "source": [
    "        'Nomes' => Nome de coluna (Key/Chave)\n",
    "\n",
    "        ['Rodrigo','Augusto','Fábio','Jeferson','Marcos','Matheus'] => dados de coluna (Values/valores)\n",
    "\n",
    "        Rodrigo => index = 0\n",
    "        Augusto => index = 1\n",
    "        \n",
    "        print 'Teste' Python 2.xxx\n",
    "        print('Teste') Python 3.xxx\n",
    "        ..."
   ]
  },
  {
   "cell_type": "code",
   "execution_count": 2,
   "metadata": {},
   "outputs": [],
   "source": [
    "import pandas as pd"
   ]
  },
  {
   "cell_type": "code",
   "execution_count": 14,
   "metadata": {},
   "outputs": [],
   "source": [
    "df = pd.DataFrame(data = dados)"
   ]
  },
  {
   "cell_type": "code",
   "execution_count": 17,
   "metadata": {},
   "outputs": [
    {
     "data": {
      "text/plain": [
       "pandas.core.series.Series"
      ]
     },
     "metadata": {},
     "output_type": "display_data"
    }
   ],
   "source": [
    "display(type(df['Nomes']))"
   ]
  },
  {
   "cell_type": "code",
   "execution_count": 18,
   "metadata": {},
   "outputs": [
    {
     "data": {
      "text/plain": [
       "pandas.core.frame.DataFrame"
      ]
     },
     "metadata": {},
     "output_type": "display_data"
    }
   ],
   "source": [
    "display(type(df))"
   ]
  },
  {
   "cell_type": "code",
   "execution_count": 21,
   "metadata": {},
   "outputs": [],
   "source": [
    "df['Idade'] = [34,22,20,18,37,19]"
   ]
  },
  {
   "cell_type": "code",
   "execution_count": 20,
   "metadata": {},
   "outputs": [
    {
     "data": {
      "text/html": [
       "<div>\n",
       "<style scoped>\n",
       "    .dataframe tbody tr th:only-of-type {\n",
       "        vertical-align: middle;\n",
       "    }\n",
       "\n",
       "    .dataframe tbody tr th {\n",
       "        vertical-align: top;\n",
       "    }\n",
       "\n",
       "    .dataframe thead th {\n",
       "        text-align: right;\n",
       "    }\n",
       "</style>\n",
       "<table border=\"1\" class=\"dataframe\">\n",
       "  <thead>\n",
       "    <tr style=\"text-align: right;\">\n",
       "      <th></th>\n",
       "      <th>Nomes</th>\n",
       "      <th>Idade</th>\n",
       "    </tr>\n",
       "  </thead>\n",
       "  <tbody>\n",
       "    <tr>\n",
       "      <td>0</td>\n",
       "      <td>Rodrigo</td>\n",
       "      <td>34</td>\n",
       "    </tr>\n",
       "    <tr>\n",
       "      <td>1</td>\n",
       "      <td>Augusto</td>\n",
       "      <td>22</td>\n",
       "    </tr>\n",
       "    <tr>\n",
       "      <td>2</td>\n",
       "      <td>Fábio</td>\n",
       "      <td>18</td>\n",
       "    </tr>\n",
       "    <tr>\n",
       "      <td>3</td>\n",
       "      <td>Jeferson</td>\n",
       "      <td>20</td>\n",
       "    </tr>\n",
       "    <tr>\n",
       "      <td>4</td>\n",
       "      <td>Marcos</td>\n",
       "      <td>37</td>\n",
       "    </tr>\n",
       "    <tr>\n",
       "      <td>5</td>\n",
       "      <td>Matheus</td>\n",
       "      <td>19</td>\n",
       "    </tr>\n",
       "  </tbody>\n",
       "</table>\n",
       "</div>"
      ],
      "text/plain": [
       "      Nomes  Idade\n",
       "0   Rodrigo     34\n",
       "1   Augusto     22\n",
       "2     Fábio     18\n",
       "3  Jeferson     20\n",
       "4    Marcos     37\n",
       "5   Matheus     19"
      ]
     },
     "execution_count": 20,
     "metadata": {},
     "output_type": "execute_result"
    }
   ],
   "source": [
    "df"
   ]
  },
  {
   "cell_type": "code",
   "execution_count": 22,
   "metadata": {},
   "outputs": [],
   "source": [
    "df['Cidade_Natal'] = ['Porto Alegre','Joinville','Jaraguá','Jaraguá','Joinville','Jaraguá']"
   ]
  },
  {
   "cell_type": "code",
   "execution_count": 23,
   "metadata": {},
   "outputs": [
    {
     "data": {
      "text/html": [
       "<div>\n",
       "<style scoped>\n",
       "    .dataframe tbody tr th:only-of-type {\n",
       "        vertical-align: middle;\n",
       "    }\n",
       "\n",
       "    .dataframe tbody tr th {\n",
       "        vertical-align: top;\n",
       "    }\n",
       "\n",
       "    .dataframe thead th {\n",
       "        text-align: right;\n",
       "    }\n",
       "</style>\n",
       "<table border=\"1\" class=\"dataframe\">\n",
       "  <thead>\n",
       "    <tr style=\"text-align: right;\">\n",
       "      <th></th>\n",
       "      <th>Nomes</th>\n",
       "      <th>Idade</th>\n",
       "      <th>Cidade_Natal</th>\n",
       "    </tr>\n",
       "  </thead>\n",
       "  <tbody>\n",
       "    <tr>\n",
       "      <td>0</td>\n",
       "      <td>Rodrigo</td>\n",
       "      <td>34</td>\n",
       "      <td>Porto Alegre</td>\n",
       "    </tr>\n",
       "    <tr>\n",
       "      <td>1</td>\n",
       "      <td>Augusto</td>\n",
       "      <td>22</td>\n",
       "      <td>Joinville</td>\n",
       "    </tr>\n",
       "    <tr>\n",
       "      <td>2</td>\n",
       "      <td>Fábio</td>\n",
       "      <td>20</td>\n",
       "      <td>Jaraguá</td>\n",
       "    </tr>\n",
       "    <tr>\n",
       "      <td>3</td>\n",
       "      <td>Jeferson</td>\n",
       "      <td>18</td>\n",
       "      <td>Jaraguá</td>\n",
       "    </tr>\n",
       "    <tr>\n",
       "      <td>4</td>\n",
       "      <td>Marcos</td>\n",
       "      <td>37</td>\n",
       "      <td>Joinville</td>\n",
       "    </tr>\n",
       "    <tr>\n",
       "      <td>5</td>\n",
       "      <td>Matheus</td>\n",
       "      <td>19</td>\n",
       "      <td>Jaraguá</td>\n",
       "    </tr>\n",
       "  </tbody>\n",
       "</table>\n",
       "</div>"
      ],
      "text/plain": [
       "      Nomes  Idade  Cidade_Natal\n",
       "0   Rodrigo     34  Porto Alegre\n",
       "1   Augusto     22     Joinville\n",
       "2     Fábio     20       Jaraguá\n",
       "3  Jeferson     18       Jaraguá\n",
       "4    Marcos     37     Joinville\n",
       "5   Matheus     19       Jaraguá"
      ]
     },
     "execution_count": 23,
     "metadata": {},
     "output_type": "execute_result"
    }
   ],
   "source": [
    "df"
   ]
  },
  {
   "cell_type": "markdown",
   "metadata": {},
   "source": [
    "List Comprehenssion\n",
    "\n",
    "lista_vazia = [ ]   \n",
    "\n",
    "    for item in lista:\n",
    "        lista_vazia.append(faça algo)"
   ]
  },
  {
   "cell_type": "code",
   "execution_count": 24,
   "metadata": {},
   "outputs": [],
   "source": [
    "df['Estado'] = ['RS' if  cidade == 'Porto Alegre' else 'SC' for cidade in df['Cidade_Natal']]"
   ]
  },
  {
   "cell_type": "code",
   "execution_count": 25,
   "metadata": {},
   "outputs": [
    {
     "data": {
      "text/html": [
       "<div>\n",
       "<style scoped>\n",
       "    .dataframe tbody tr th:only-of-type {\n",
       "        vertical-align: middle;\n",
       "    }\n",
       "\n",
       "    .dataframe tbody tr th {\n",
       "        vertical-align: top;\n",
       "    }\n",
       "\n",
       "    .dataframe thead th {\n",
       "        text-align: right;\n",
       "    }\n",
       "</style>\n",
       "<table border=\"1\" class=\"dataframe\">\n",
       "  <thead>\n",
       "    <tr style=\"text-align: right;\">\n",
       "      <th></th>\n",
       "      <th>Nomes</th>\n",
       "      <th>Idade</th>\n",
       "      <th>Cidade_Natal</th>\n",
       "      <th>Estado</th>\n",
       "    </tr>\n",
       "  </thead>\n",
       "  <tbody>\n",
       "    <tr>\n",
       "      <td>0</td>\n",
       "      <td>Rodrigo</td>\n",
       "      <td>34</td>\n",
       "      <td>Porto Alegre</td>\n",
       "      <td>RS</td>\n",
       "    </tr>\n",
       "    <tr>\n",
       "      <td>1</td>\n",
       "      <td>Augusto</td>\n",
       "      <td>22</td>\n",
       "      <td>Joinville</td>\n",
       "      <td>SC</td>\n",
       "    </tr>\n",
       "    <tr>\n",
       "      <td>2</td>\n",
       "      <td>Fábio</td>\n",
       "      <td>20</td>\n",
       "      <td>Jaraguá</td>\n",
       "      <td>SC</td>\n",
       "    </tr>\n",
       "    <tr>\n",
       "      <td>3</td>\n",
       "      <td>Jeferson</td>\n",
       "      <td>18</td>\n",
       "      <td>Jaraguá</td>\n",
       "      <td>SC</td>\n",
       "    </tr>\n",
       "    <tr>\n",
       "      <td>4</td>\n",
       "      <td>Marcos</td>\n",
       "      <td>37</td>\n",
       "      <td>Joinville</td>\n",
       "      <td>SC</td>\n",
       "    </tr>\n",
       "    <tr>\n",
       "      <td>5</td>\n",
       "      <td>Matheus</td>\n",
       "      <td>19</td>\n",
       "      <td>Jaraguá</td>\n",
       "      <td>SC</td>\n",
       "    </tr>\n",
       "  </tbody>\n",
       "</table>\n",
       "</div>"
      ],
      "text/plain": [
       "      Nomes  Idade  Cidade_Natal Estado\n",
       "0   Rodrigo     34  Porto Alegre     RS\n",
       "1   Augusto     22     Joinville     SC\n",
       "2     Fábio     20       Jaraguá     SC\n",
       "3  Jeferson     18       Jaraguá     SC\n",
       "4    Marcos     37     Joinville     SC\n",
       "5   Matheus     19       Jaraguá     SC"
      ]
     },
     "execution_count": 25,
     "metadata": {},
     "output_type": "execute_result"
    }
   ],
   "source": [
    "df"
   ]
  },
  {
   "cell_type": "code",
   "execution_count": 44,
   "metadata": {},
   "outputs": [
    {
     "name": "stdout",
     "output_type": "stream",
     "text": [
      "Porto Alegre\n",
      "Joinville\n",
      "Jaraguá\n",
      "Jaraguá\n",
      "Joinville\n",
      "Jaraguá\n"
     ]
    }
   ],
   "source": [
    "for i in range(len(df['Cidade_Natal'])):\n",
    "    print(df['Cidade_Natal'].iloc[i])"
   ]
  },
  {
   "cell_type": "code",
   "execution_count": 30,
   "metadata": {},
   "outputs": [],
   "source": [
    "tamanho_lista = range(len(df['Cidade_Natal']))"
   ]
  },
  {
   "cell_type": "code",
   "execution_count": 60,
   "metadata": {},
   "outputs": [],
   "source": [
    "df['Altura'] = [171,1.87,1.75,1.85, None , 1.76]"
   ]
  },
  {
   "cell_type": "code",
   "execution_count": 58,
   "metadata": {},
   "outputs": [
    {
     "data": {
      "text/html": [
       "<div>\n",
       "<style scoped>\n",
       "    .dataframe tbody tr th:only-of-type {\n",
       "        vertical-align: middle;\n",
       "    }\n",
       "\n",
       "    .dataframe tbody tr th {\n",
       "        vertical-align: top;\n",
       "    }\n",
       "\n",
       "    .dataframe thead th {\n",
       "        text-align: right;\n",
       "    }\n",
       "</style>\n",
       "<table border=\"1\" class=\"dataframe\">\n",
       "  <thead>\n",
       "    <tr style=\"text-align: right;\">\n",
       "      <th></th>\n",
       "      <th>Nomes</th>\n",
       "      <th>Idade</th>\n",
       "      <th>Cidade_Natal</th>\n",
       "      <th>Estado</th>\n",
       "      <th>Altura</th>\n",
       "    </tr>\n",
       "  </thead>\n",
       "  <tbody>\n",
       "    <tr>\n",
       "      <td>0</td>\n",
       "      <td>Rodrigo</td>\n",
       "      <td>34</td>\n",
       "      <td>Porto Alegre</td>\n",
       "      <td>RS</td>\n",
       "      <td>171.00</td>\n",
       "    </tr>\n",
       "    <tr>\n",
       "      <td>1</td>\n",
       "      <td>Augusto</td>\n",
       "      <td>22</td>\n",
       "      <td>Joinville</td>\n",
       "      <td>SC</td>\n",
       "      <td>1.87</td>\n",
       "    </tr>\n",
       "    <tr>\n",
       "      <td>2</td>\n",
       "      <td>Fábio</td>\n",
       "      <td>20</td>\n",
       "      <td>Jaraguá</td>\n",
       "      <td>SC</td>\n",
       "      <td>1.75</td>\n",
       "    </tr>\n",
       "    <tr>\n",
       "      <td>3</td>\n",
       "      <td>Jeferson</td>\n",
       "      <td>18</td>\n",
       "      <td>Jaraguá</td>\n",
       "      <td>SC</td>\n",
       "      <td>1.85</td>\n",
       "    </tr>\n",
       "    <tr>\n",
       "      <td>4</td>\n",
       "      <td>Marcos</td>\n",
       "      <td>37</td>\n",
       "      <td>Joinville</td>\n",
       "      <td>SC</td>\n",
       "      <td>NaN</td>\n",
       "    </tr>\n",
       "    <tr>\n",
       "      <td>5</td>\n",
       "      <td>Matheus</td>\n",
       "      <td>19</td>\n",
       "      <td>Jaraguá</td>\n",
       "      <td>SC</td>\n",
       "      <td>1.76</td>\n",
       "    </tr>\n",
       "  </tbody>\n",
       "</table>\n",
       "</div>"
      ],
      "text/plain": [
       "      Nomes  Idade  Cidade_Natal Estado  Altura\n",
       "0   Rodrigo     34  Porto Alegre     RS  171.00\n",
       "1   Augusto     22     Joinville     SC    1.87\n",
       "2     Fábio     20       Jaraguá     SC    1.75\n",
       "3  Jeferson     18       Jaraguá     SC    1.85\n",
       "4    Marcos     37     Joinville     SC     NaN\n",
       "5   Matheus     19       Jaraguá     SC    1.76"
      ]
     },
     "execution_count": 58,
     "metadata": {},
     "output_type": "execute_result"
    }
   ],
   "source": [
    "df"
   ]
  },
  {
   "cell_type": "code",
   "execution_count": 61,
   "metadata": {},
   "outputs": [],
   "source": [
    "df.fillna(value = {'Altura':1.85}, inplace=True)"
   ]
  },
  {
   "cell_type": "code",
   "execution_count": 62,
   "metadata": {},
   "outputs": [
    {
     "data": {
      "text/html": [
       "<div>\n",
       "<style scoped>\n",
       "    .dataframe tbody tr th:only-of-type {\n",
       "        vertical-align: middle;\n",
       "    }\n",
       "\n",
       "    .dataframe tbody tr th {\n",
       "        vertical-align: top;\n",
       "    }\n",
       "\n",
       "    .dataframe thead th {\n",
       "        text-align: right;\n",
       "    }\n",
       "</style>\n",
       "<table border=\"1\" class=\"dataframe\">\n",
       "  <thead>\n",
       "    <tr style=\"text-align: right;\">\n",
       "      <th></th>\n",
       "      <th>Nomes</th>\n",
       "      <th>Idade</th>\n",
       "      <th>Cidade_Natal</th>\n",
       "      <th>Estado</th>\n",
       "      <th>Altura</th>\n",
       "    </tr>\n",
       "  </thead>\n",
       "  <tbody>\n",
       "    <tr>\n",
       "      <td>0</td>\n",
       "      <td>Rodrigo</td>\n",
       "      <td>34</td>\n",
       "      <td>Porto Alegre</td>\n",
       "      <td>RS</td>\n",
       "      <td>171.00</td>\n",
       "    </tr>\n",
       "    <tr>\n",
       "      <td>1</td>\n",
       "      <td>Augusto</td>\n",
       "      <td>22</td>\n",
       "      <td>Joinville</td>\n",
       "      <td>SC</td>\n",
       "      <td>1.87</td>\n",
       "    </tr>\n",
       "    <tr>\n",
       "      <td>2</td>\n",
       "      <td>Fábio</td>\n",
       "      <td>20</td>\n",
       "      <td>Jaraguá</td>\n",
       "      <td>SC</td>\n",
       "      <td>1.75</td>\n",
       "    </tr>\n",
       "    <tr>\n",
       "      <td>3</td>\n",
       "      <td>Jeferson</td>\n",
       "      <td>18</td>\n",
       "      <td>Jaraguá</td>\n",
       "      <td>SC</td>\n",
       "      <td>1.85</td>\n",
       "    </tr>\n",
       "    <tr>\n",
       "      <td>4</td>\n",
       "      <td>Marcos</td>\n",
       "      <td>37</td>\n",
       "      <td>Joinville</td>\n",
       "      <td>SC</td>\n",
       "      <td>1.85</td>\n",
       "    </tr>\n",
       "    <tr>\n",
       "      <td>5</td>\n",
       "      <td>Matheus</td>\n",
       "      <td>19</td>\n",
       "      <td>Jaraguá</td>\n",
       "      <td>SC</td>\n",
       "      <td>1.76</td>\n",
       "    </tr>\n",
       "  </tbody>\n",
       "</table>\n",
       "</div>"
      ],
      "text/plain": [
       "      Nomes  Idade  Cidade_Natal Estado  Altura\n",
       "0   Rodrigo     34  Porto Alegre     RS  171.00\n",
       "1   Augusto     22     Joinville     SC    1.87\n",
       "2     Fábio     20       Jaraguá     SC    1.75\n",
       "3  Jeferson     18       Jaraguá     SC    1.85\n",
       "4    Marcos     37     Joinville     SC    1.85\n",
       "5   Matheus     19       Jaraguá     SC    1.76"
      ]
     },
     "execution_count": 62,
     "metadata": {},
     "output_type": "execute_result"
    }
   ],
   "source": [
    "df"
   ]
  },
  {
   "cell_type": "code",
   "execution_count": 64,
   "metadata": {},
   "outputs": [],
   "source": [
    "df.replace({'Altura': 171}, 171/100, inplace=True)\n"
   ]
  },
  {
   "cell_type": "code",
   "execution_count": 65,
   "metadata": {},
   "outputs": [
    {
     "data": {
      "text/html": [
       "<div>\n",
       "<style scoped>\n",
       "    .dataframe tbody tr th:only-of-type {\n",
       "        vertical-align: middle;\n",
       "    }\n",
       "\n",
       "    .dataframe tbody tr th {\n",
       "        vertical-align: top;\n",
       "    }\n",
       "\n",
       "    .dataframe thead th {\n",
       "        text-align: right;\n",
       "    }\n",
       "</style>\n",
       "<table border=\"1\" class=\"dataframe\">\n",
       "  <thead>\n",
       "    <tr style=\"text-align: right;\">\n",
       "      <th></th>\n",
       "      <th>Nomes</th>\n",
       "      <th>Idade</th>\n",
       "      <th>Cidade_Natal</th>\n",
       "      <th>Estado</th>\n",
       "      <th>Altura</th>\n",
       "    </tr>\n",
       "  </thead>\n",
       "  <tbody>\n",
       "    <tr>\n",
       "      <td>0</td>\n",
       "      <td>Rodrigo</td>\n",
       "      <td>34</td>\n",
       "      <td>Porto Alegre</td>\n",
       "      <td>RS</td>\n",
       "      <td>1.71</td>\n",
       "    </tr>\n",
       "    <tr>\n",
       "      <td>1</td>\n",
       "      <td>Augusto</td>\n",
       "      <td>22</td>\n",
       "      <td>Joinville</td>\n",
       "      <td>SC</td>\n",
       "      <td>1.87</td>\n",
       "    </tr>\n",
       "    <tr>\n",
       "      <td>2</td>\n",
       "      <td>Fábio</td>\n",
       "      <td>20</td>\n",
       "      <td>Jaraguá</td>\n",
       "      <td>SC</td>\n",
       "      <td>1.75</td>\n",
       "    </tr>\n",
       "    <tr>\n",
       "      <td>3</td>\n",
       "      <td>Jeferson</td>\n",
       "      <td>18</td>\n",
       "      <td>Jaraguá</td>\n",
       "      <td>SC</td>\n",
       "      <td>1.85</td>\n",
       "    </tr>\n",
       "    <tr>\n",
       "      <td>4</td>\n",
       "      <td>Marcos</td>\n",
       "      <td>37</td>\n",
       "      <td>Joinville</td>\n",
       "      <td>SC</td>\n",
       "      <td>1.85</td>\n",
       "    </tr>\n",
       "    <tr>\n",
       "      <td>5</td>\n",
       "      <td>Matheus</td>\n",
       "      <td>19</td>\n",
       "      <td>Jaraguá</td>\n",
       "      <td>SC</td>\n",
       "      <td>1.76</td>\n",
       "    </tr>\n",
       "  </tbody>\n",
       "</table>\n",
       "</div>"
      ],
      "text/plain": [
       "      Nomes  Idade  Cidade_Natal Estado  Altura\n",
       "0   Rodrigo     34  Porto Alegre     RS    1.71\n",
       "1   Augusto     22     Joinville     SC    1.87\n",
       "2     Fábio     20       Jaraguá     SC    1.75\n",
       "3  Jeferson     18       Jaraguá     SC    1.85\n",
       "4    Marcos     37     Joinville     SC    1.85\n",
       "5   Matheus     19       Jaraguá     SC    1.76"
      ]
     },
     "execution_count": 65,
     "metadata": {},
     "output_type": "execute_result"
    }
   ],
   "source": [
    "df"
   ]
  },
  {
   "cell_type": "markdown",
   "metadata": {},
   "source": [
    "## Fazer\n",
    "\n",
    "    1 - Substituir na coluna estado:\n",
    "     se SC df['Estado'] = 1 , senao df['Estado'] = 0\n",
    " \n",
    "    2 - Criar uma coluna tempo de experiencia (anos) no df usado "
   ]
  },
  {
   "cell_type": "code",
   "execution_count": null,
   "metadata": {},
   "outputs": [],
   "source": []
  }
 ],
 "metadata": {
  "kernelspec": {
   "display_name": "Python 3",
   "language": "python",
   "name": "python3"
  },
  "language_info": {
   "codemirror_mode": {
    "name": "ipython",
    "version": 3
   },
   "file_extension": ".py",
   "mimetype": "text/x-python",
   "name": "python",
   "nbconvert_exporter": "python",
   "pygments_lexer": "ipython3",
   "version": "3.7.4"
  }
 },
 "nbformat": 4,
 "nbformat_minor": 2
}
