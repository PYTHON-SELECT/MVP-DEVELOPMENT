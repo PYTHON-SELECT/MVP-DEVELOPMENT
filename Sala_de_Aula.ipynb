{
 "cells": [
  {
   "cell_type": "code",
   "execution_count": null,
   "metadata": {},
   "outputs": [],
   "source": [
    "Criar um dicionário com 3 chaves ['nome1','nome2','nome3'] => nome1 lista, nome2-> tuple, nome3 dicionario"
   ]
  },
  {
   "cell_type": "code",
   "execution_count": 14,
   "metadata": {},
   "outputs": [],
   "source": [
    "dicionario = {'Chave_1':[1,2.5,\n",
    "                         'Python',\n",
    "                         False],\n",
    "              'Chave_2':([1,2.5,\n",
    "                          'Python',\n",
    "                          False],\n",
    "                          1,\n",
    "                          'Jupyter'),\n",
    "              'Chave_3':{'Chave_3_1':\n",
    "                             1,\n",
    "                         'Chave_3_2': \n",
    "                             2}}"
   ]
  },
  {
   "cell_type": "code",
   "execution_count": 29,
   "metadata": {},
   "outputs": [
    {
     "data": {
      "text/plain": [
       "int"
      ]
     },
     "metadata": {},
     "output_type": "display_data"
    },
    {
     "data": {
      "text/plain": [
       "1"
      ]
     },
     "metadata": {},
     "output_type": "display_data"
    }
   ],
   "source": [
    "display(type(dicionario['Chave_3']['Chave_3_1']))\n",
    "display(dicionario['Chave_3']['Chave_3_1'])"
   ]
  },
  {
   "cell_type": "markdown",
   "metadata": {},
   "source": [
    "### Criar uma lista vazia em que:\n",
    "    - A lista recebe x = [1,2,4,5,6,7,8,9,0,3,4,5,6,7,8,9,1] -> Time series\n",
    "    - Se o valor for maior que 5 adciona o valor, senão soma valor + 5\n",
    "    - faz while e for loop, testando o tempo de execução dos dois loops\n"
   ]
  },
  {
   "cell_type": "code",
   "execution_count": 91,
   "metadata": {},
   "outputs": [],
   "source": [
    "lista_vazia_1 = []\n",
    "lista_vazia_2 = []\n",
    "x = [1,2,4,5,6,7,8,9,0,3,4,5,6,7,8,9,1]\n",
    "from timeit import default_timer as timer"
   ]
  },
  {
   "cell_type": "code",
   "execution_count": 92,
   "metadata": {},
   "outputs": [
    {
     "name": "stdout",
     "output_type": "stream",
     "text": [
      "Finalizou thread 1 0.00010449999990669312 segundos\n",
      "[6, 7, 9, 10, 6, 7, 8, 9, 5, 8, 9, 10, 6, 7, 8, 9, 6]\n"
     ]
    }
   ],
   "source": [
    "start_1 = timer()\n",
    "for item in x:\n",
    "    if item > 5:\n",
    "        lista_vazia_1.append(item)\n",
    "    else:\n",
    "        lista_vazia_1.append(item+5)\n",
    "end_1 = timer()\n",
    "print('Finalizou thread 1 {} segundos'.format(end_1 - start_1))\n",
    "print(lista_vazia_1)"
   ]
  },
  {
   "cell_type": "code",
   "execution_count": 97,
   "metadata": {},
   "outputs": [
    {
     "name": "stdout",
     "output_type": "stream",
     "text": [
      "'Curso' 'Python'\n"
     ]
    }
   ],
   "source": [
    "print(\"'Curso'\" + ' ' + \"'Python'\")\n",
    "\"\"\"   \"     ''       \"      \"\"\""
   ]
  },
  {
   "cell_type": "code",
   "execution_count": 93,
   "metadata": {},
   "outputs": [
    {
     "name": "stdout",
     "output_type": "stream",
     "text": [
      "Finalizou thread 2 0.00025800000003073364 segundos\n",
      "[6, 7, 9, 10, 6, 7, 8, 9, 5, 8, 9, 10, 6, 7, 8, 9, 6]\n"
     ]
    }
   ],
   "source": [
    "start_2 = timer()\n",
    "i = 0\n",
    "while i < len(x):\n",
    "    if x[i] > 5:\n",
    "        lista_vazia_2.append(x[i])\n",
    "        i+=1\n",
    "    else:\n",
    "        lista_vazia_2.append(x[i]+5)\n",
    "        i+=1\n",
    "end_2 = timer() \n",
    "print('Finalizou thread 2 {} segundos'.format(end_2 - start_2))\n",
    "print(lista_vazia_2)"
   ]
  },
  {
   "cell_type": "code",
   "execution_count": 90,
   "metadata": {},
   "outputs": [
    {
     "data": {
      "text/plain": [
       "[6, 7, 9, 10, 6, 7, 8, 9, 5, 8, 9, 10, 6, 7, 8, 9, 6]"
      ]
     },
     "execution_count": 90,
     "metadata": {},
     "output_type": "execute_result"
    }
   ],
   "source": [
    "lista_vazia_1.reverse()\n",
    "lista_vazia_2.reverse()"
   ]
  },
  {
   "cell_type": "code",
   "execution_count": 94,
   "metadata": {},
   "outputs": [
    {
     "name": "stdout",
     "output_type": "stream",
     "text": [
      "[6, 7, 9, 10, 6, 7, 8, 9, 5, 8, 9, 10, 6, 7, 8, 9, 6]\n",
      "[6, 7, 9, 10, 6, 7, 8, 9, 5, 8, 9, 10, 6, 7, 8, 9, 6]\n"
     ]
    }
   ],
   "source": [
    "print(lista_vazia_1)\n",
    "print(lista_vazia_2)"
   ]
  },
  {
   "cell_type": "code",
   "execution_count": null,
   "metadata": {},
   "outputs": [],
   "source": [
    "x.reverse()"
   ]
  },
  {
   "cell_type": "code",
   "execution_count": null,
   "metadata": {},
   "outputs": [],
   "source": []
  },
  {
   "cell_type": "code",
   "execution_count": 103,
   "metadata": {},
   "outputs": [],
   "source": [
    "text_1 = \"\"\"To exemplify how to use the several screen scraping \n",
    "          methods and the practical differences between them, let's first scrape a \n",
    "          Notepad window with some text and see what results we have. The following \n",
    "          screenshot is what we used.\"\"\""
   ]
  },
  {
   "cell_type": "code",
   "execution_count": 108,
   "metadata": {},
   "outputs": [],
   "source": [
    "#text_1.split()"
   ]
  },
  {
   "cell_type": "code",
   "execution_count": 157,
   "metadata": {},
   "outputs": [],
   "source": [
    "import pandas as pd\n",
    "dados = {'Temperatura': [item*2.5 for item in lista_vazia_2], 'Umidade': x}"
   ]
  },
  {
   "cell_type": "code",
   "execution_count": 160,
   "metadata": {},
   "outputs": [],
   "source": [
    "list_new = []\n",
    "for item in lista_vazia_2:\n",
    "    list_new.append(item*2.5)"
   ]
  },
  {
   "cell_type": "code",
   "execution_count": 161,
   "metadata": {},
   "outputs": [
    {
     "name": "stdout",
     "output_type": "stream",
     "text": [
      "[15.0, 17.5, 22.5, 25.0, 15.0, 17.5, 20.0, 22.5, 12.5, 20.0, 22.5, 25.0, 15.0, 17.5, 20.0, 22.5, 15.0]\n"
     ]
    }
   ],
   "source": [
    "print(list_new)"
   ]
  },
  {
   "cell_type": "code",
   "execution_count": 158,
   "metadata": {},
   "outputs": [],
   "source": [
    "data_frame = pd.DataFrame(data=dados)"
   ]
  },
  {
   "cell_type": "code",
   "execution_count": null,
   "metadata": {},
   "outputs": [],
   "source": [
    "rename(columns={'A': 'a'}, index={'ONE': 'one'})"
   ]
  },
  {
   "cell_type": "code",
   "execution_count": 168,
   "metadata": {},
   "outputs": [],
   "source": [
    "data_frame.index = [i+1 for i  in range(len(data_frame))] "
   ]
  },
  {
   "cell_type": "code",
   "execution_count": 177,
   "metadata": {
    "scrolled": true
   },
   "outputs": [
    {
     "data": {
      "text/html": [
       "<div>\n",
       "<style scoped>\n",
       "    .dataframe tbody tr th:only-of-type {\n",
       "        vertical-align: middle;\n",
       "    }\n",
       "\n",
       "    .dataframe tbody tr th {\n",
       "        vertical-align: top;\n",
       "    }\n",
       "\n",
       "    .dataframe thead th {\n",
       "        text-align: right;\n",
       "    }\n",
       "</style>\n",
       "<table border=\"1\" class=\"dataframe\">\n",
       "  <thead>\n",
       "    <tr style=\"text-align: right;\">\n",
       "      <th></th>\n",
       "      <th>Temperatura</th>\n",
       "      <th>Umidade</th>\n",
       "    </tr>\n",
       "  </thead>\n",
       "  <tbody>\n",
       "    <tr>\n",
       "      <td>1</td>\n",
       "      <td>15.0</td>\n",
       "      <td>1</td>\n",
       "    </tr>\n",
       "    <tr>\n",
       "      <td>2</td>\n",
       "      <td>17.5</td>\n",
       "      <td>2</td>\n",
       "    </tr>\n",
       "    <tr>\n",
       "      <td>3</td>\n",
       "      <td>22.5</td>\n",
       "      <td>4</td>\n",
       "    </tr>\n",
       "    <tr>\n",
       "      <td>4</td>\n",
       "      <td>25.0</td>\n",
       "      <td>5</td>\n",
       "    </tr>\n",
       "    <tr>\n",
       "      <td>5</td>\n",
       "      <td>15.0</td>\n",
       "      <td>6</td>\n",
       "    </tr>\n",
       "    <tr>\n",
       "      <td>6</td>\n",
       "      <td>17.5</td>\n",
       "      <td>7</td>\n",
       "    </tr>\n",
       "    <tr>\n",
       "      <td>7</td>\n",
       "      <td>20.0</td>\n",
       "      <td>8</td>\n",
       "    </tr>\n",
       "    <tr>\n",
       "      <td>8</td>\n",
       "      <td>22.5</td>\n",
       "      <td>9</td>\n",
       "    </tr>\n",
       "    <tr>\n",
       "      <td>9</td>\n",
       "      <td>12.5</td>\n",
       "      <td>0</td>\n",
       "    </tr>\n",
       "    <tr>\n",
       "      <td>10</td>\n",
       "      <td>20.0</td>\n",
       "      <td>3</td>\n",
       "    </tr>\n",
       "    <tr>\n",
       "      <td>11</td>\n",
       "      <td>22.5</td>\n",
       "      <td>4</td>\n",
       "    </tr>\n",
       "    <tr>\n",
       "      <td>12</td>\n",
       "      <td>25.0</td>\n",
       "      <td>5</td>\n",
       "    </tr>\n",
       "    <tr>\n",
       "      <td>13</td>\n",
       "      <td>15.0</td>\n",
       "      <td>6</td>\n",
       "    </tr>\n",
       "    <tr>\n",
       "      <td>14</td>\n",
       "      <td>17.5</td>\n",
       "      <td>7</td>\n",
       "    </tr>\n",
       "    <tr>\n",
       "      <td>15</td>\n",
       "      <td>20.0</td>\n",
       "      <td>8</td>\n",
       "    </tr>\n",
       "    <tr>\n",
       "      <td>16</td>\n",
       "      <td>22.5</td>\n",
       "      <td>9</td>\n",
       "    </tr>\n",
       "    <tr>\n",
       "      <td>17</td>\n",
       "      <td>15.0</td>\n",
       "      <td>1</td>\n",
       "    </tr>\n",
       "  </tbody>\n",
       "</table>\n",
       "</div>"
      ],
      "text/plain": [
       "    Temperatura  Umidade\n",
       "1          15.0        1\n",
       "2          17.5        2\n",
       "3          22.5        4\n",
       "4          25.0        5\n",
       "5          15.0        6\n",
       "6          17.5        7\n",
       "7          20.0        8\n",
       "8          22.5        9\n",
       "9          12.5        0\n",
       "10         20.0        3\n",
       "11         22.5        4\n",
       "12         25.0        5\n",
       "13         15.0        6\n",
       "14         17.5        7\n",
       "15         20.0        8\n",
       "16         22.5        9\n",
       "17         15.0        1"
      ]
     },
     "metadata": {},
     "output_type": "display_data"
    }
   ],
   "source": [
    "display(data_frame)"
   ]
  },
  {
   "cell_type": "code",
   "execution_count": 172,
   "metadata": {},
   "outputs": [
    {
     "data": {
      "text/plain": [
       "Index(['Temperatura', 'Umidade'], dtype='object')"
      ]
     },
     "execution_count": 172,
     "metadata": {},
     "output_type": "execute_result"
    }
   ],
   "source": [
    "data_frame.columns"
   ]
  },
  {
   "cell_type": "code",
   "execution_count": 186,
   "metadata": {},
   "outputs": [
    {
     "name": "stdout",
     "output_type": "stream",
     "text": [
      "1     15.0\n",
      "2     17.5\n",
      "3     22.5\n",
      "4     25.0\n",
      "5     15.0\n",
      "6     17.5\n",
      "7     20.0\n",
      "8     22.5\n",
      "9     12.5\n",
      "10    20.0\n",
      "11    22.5\n",
      "12    25.0\n",
      "13    15.0\n",
      "14    17.5\n",
      "15    20.0\n",
      "16    22.5\n",
      "17    15.0\n",
      "Name: Temperatura, dtype: float64\n",
      "1     1\n",
      "2     2\n",
      "3     4\n",
      "4     5\n",
      "5     6\n",
      "6     7\n",
      "7     8\n",
      "8     9\n",
      "9     0\n",
      "10    3\n",
      "11    4\n",
      "12    5\n",
      "13    6\n",
      "14    7\n",
      "15    8\n",
      "16    9\n",
      "17    1\n",
      "Name: Umidade, dtype: int64\n"
     ]
    }
   ],
   "source": [
    "for item in data_frame.columns:\n",
    "    print(data_frame[item])"
   ]
  },
  {
   "cell_type": "markdown",
   "metadata": {},
   "source": [
    "        data_frame.iloc[1,1]\n",
    "\n",
    "        data_frame.loc[1,'Temperatura']"
   ]
  },
  {
   "cell_type": "markdown",
   "metadata": {},
   "source": [
    "        for i range(len(numero_de_linhas)):\n",
    "            for j in range(len(numero_de_colunas)):\n",
    "                print(data[i,j])"
   ]
  },
  {
   "cell_type": "markdown",
   "metadata": {},
   "source": [
    "Converter as temperaturas em celsius para farenheit e criar uma coluna com valores de categoria [quente,frio, ...]\n",
    "\n",
    "desafio plotar esses de tempratura com line_plot e fazer um scatter_plot com matplotlib e pandas"
   ]
  },
  {
   "cell_type": "code",
   "execution_count": 188,
   "metadata": {},
   "outputs": [
    {
     "data": {
      "text/html": [
       "<div>\n",
       "<style scoped>\n",
       "    .dataframe tbody tr th:only-of-type {\n",
       "        vertical-align: middle;\n",
       "    }\n",
       "\n",
       "    .dataframe tbody tr th {\n",
       "        vertical-align: top;\n",
       "    }\n",
       "\n",
       "    .dataframe thead th {\n",
       "        text-align: right;\n",
       "    }\n",
       "</style>\n",
       "<table border=\"1\" class=\"dataframe\">\n",
       "  <thead>\n",
       "    <tr style=\"text-align: right;\">\n",
       "      <th></th>\n",
       "      <th>Temperatura</th>\n",
       "      <th>Umidade</th>\n",
       "    </tr>\n",
       "  </thead>\n",
       "  <tbody>\n",
       "    <tr>\n",
       "      <td>1</td>\n",
       "      <td>15.0</td>\n",
       "      <td>1</td>\n",
       "    </tr>\n",
       "    <tr>\n",
       "      <td>2</td>\n",
       "      <td>17.5</td>\n",
       "      <td>2</td>\n",
       "    </tr>\n",
       "    <tr>\n",
       "      <td>3</td>\n",
       "      <td>22.5</td>\n",
       "      <td>4</td>\n",
       "    </tr>\n",
       "    <tr>\n",
       "      <td>4</td>\n",
       "      <td>25.0</td>\n",
       "      <td>5</td>\n",
       "    </tr>\n",
       "    <tr>\n",
       "      <td>5</td>\n",
       "      <td>15.0</td>\n",
       "      <td>6</td>\n",
       "    </tr>\n",
       "    <tr>\n",
       "      <td>6</td>\n",
       "      <td>17.5</td>\n",
       "      <td>7</td>\n",
       "    </tr>\n",
       "    <tr>\n",
       "      <td>7</td>\n",
       "      <td>20.0</td>\n",
       "      <td>8</td>\n",
       "    </tr>\n",
       "    <tr>\n",
       "      <td>8</td>\n",
       "      <td>22.5</td>\n",
       "      <td>9</td>\n",
       "    </tr>\n",
       "    <tr>\n",
       "      <td>9</td>\n",
       "      <td>12.5</td>\n",
       "      <td>0</td>\n",
       "    </tr>\n",
       "    <tr>\n",
       "      <td>10</td>\n",
       "      <td>20.0</td>\n",
       "      <td>3</td>\n",
       "    </tr>\n",
       "    <tr>\n",
       "      <td>11</td>\n",
       "      <td>22.5</td>\n",
       "      <td>4</td>\n",
       "    </tr>\n",
       "    <tr>\n",
       "      <td>12</td>\n",
       "      <td>25.0</td>\n",
       "      <td>5</td>\n",
       "    </tr>\n",
       "    <tr>\n",
       "      <td>13</td>\n",
       "      <td>15.0</td>\n",
       "      <td>6</td>\n",
       "    </tr>\n",
       "    <tr>\n",
       "      <td>14</td>\n",
       "      <td>17.5</td>\n",
       "      <td>7</td>\n",
       "    </tr>\n",
       "    <tr>\n",
       "      <td>15</td>\n",
       "      <td>20.0</td>\n",
       "      <td>8</td>\n",
       "    </tr>\n",
       "    <tr>\n",
       "      <td>16</td>\n",
       "      <td>22.5</td>\n",
       "      <td>9</td>\n",
       "    </tr>\n",
       "    <tr>\n",
       "      <td>17</td>\n",
       "      <td>15.0</td>\n",
       "      <td>1</td>\n",
       "    </tr>\n",
       "  </tbody>\n",
       "</table>\n",
       "</div>"
      ],
      "text/plain": [
       "    Temperatura  Umidade\n",
       "1          15.0        1\n",
       "2          17.5        2\n",
       "3          22.5        4\n",
       "4          25.0        5\n",
       "5          15.0        6\n",
       "6          17.5        7\n",
       "7          20.0        8\n",
       "8          22.5        9\n",
       "9          12.5        0\n",
       "10         20.0        3\n",
       "11         22.5        4\n",
       "12         25.0        5\n",
       "13         15.0        6\n",
       "14         17.5        7\n",
       "15         20.0        8\n",
       "16         22.5        9\n",
       "17         15.0        1"
      ]
     },
     "execution_count": 188,
     "metadata": {},
     "output_type": "execute_result"
    }
   ],
   "source": [
    "data_frame"
   ]
  },
  {
   "cell_type": "code",
   "execution_count": null,
   "metadata": {},
   "outputs": [],
   "source": [
    "Converter a coluna umidade para intervalo [0,1] \n",
    "Criar coluna valores de categoria para a temperatura [quente,frio, ...]\n",
    "Criar uma Coluna choveu ou não choveu\n",
    "Calcular a probabilidade de chover ou nã\n",
    "desafio plotar esses de tempratura com line_plot e fazer um scatter_plot com matplotlib e pandas"
   ]
  }
 ],
 "metadata": {
  "kernelspec": {
   "display_name": "Python 3",
   "language": "python",
   "name": "python3"
  },
  "language_info": {
   "codemirror_mode": {
    "name": "ipython",
    "version": 3
   },
   "file_extension": ".py",
   "mimetype": "text/x-python",
   "name": "python",
   "nbconvert_exporter": "python",
   "pygments_lexer": "ipython3",
   "version": "3.7.4"
  }
 },
 "nbformat": 4,
 "nbformat_minor": 2
}
